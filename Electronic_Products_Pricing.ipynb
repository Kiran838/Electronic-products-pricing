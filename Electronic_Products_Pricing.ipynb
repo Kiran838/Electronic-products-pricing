{
  "nbformat": 4,
  "nbformat_minor": 0,
  "metadata": {
    "colab": {
      "name": "Electronic Products Pricing.ipynb",
      "provenance": [],
      "collapsed_sections": []
    },
    "kernelspec": {
      "name": "python3",
      "display_name": "Python 3"
    }
  },
  "cells": [
    {
      "cell_type": "code",
      "metadata": {
        "id": "4lSoUCmbWbuH"
      },
      "source": [
        "# Importing Libraries\n",
        " \n",
        "import numpy as np\n",
        "import pandas as pd\n",
        "import sklearn as sk\n",
        "from sklearn.model_selection import train_test_split\n",
        "from sklearn.linear_model import LinearRegression"
      ],
      "execution_count": null,
      "outputs": []
    },
    {
      "cell_type": "code",
      "metadata": {
        "id": "mDeGhCCTXA6o"
      },
      "source": [
        "ep_data = pd.read_csv(\"https://raw.githubusercontent.com/dphi-official/Datasets/master/electronic_product/electronic_product/Training_set_label.csv\" )"
      ],
      "execution_count": null,
      "outputs": []
    },
    {
      "cell_type": "code",
      "metadata": {
        "colab": {
          "base_uri": "https://localhost:8080/",
          "height": 967
        },
        "id": "5DjCy4zoYOTb",
        "outputId": "9243d735-021c-4945-a1ce-4e7b819b6c82"
      },
      "source": [
        "ep_data.head(10)"
      ],
      "execution_count": null,
      "outputs": [
        {
          "output_type": "execute_result",
          "data": {
            "text/html": [
              "<div>\n",
              "<style scoped>\n",
              "    .dataframe tbody tr th:only-of-type {\n",
              "        vertical-align: middle;\n",
              "    }\n",
              "\n",
              "    .dataframe tbody tr th {\n",
              "        vertical-align: top;\n",
              "    }\n",
              "\n",
              "    .dataframe thead th {\n",
              "        text-align: right;\n",
              "    }\n",
              "</style>\n",
              "<table border=\"1\" class=\"dataframe\">\n",
              "  <thead>\n",
              "    <tr style=\"text-align: right;\">\n",
              "      <th></th>\n",
              "      <th>id</th>\n",
              "      <th>prices.availability</th>\n",
              "      <th>prices.condition</th>\n",
              "      <th>prices.currency</th>\n",
              "      <th>prices.dateSeen</th>\n",
              "      <th>prices.isSale</th>\n",
              "      <th>prices.merchant</th>\n",
              "      <th>prices.shipping</th>\n",
              "      <th>prices.sourceURLs</th>\n",
              "      <th>asins</th>\n",
              "      <th>brand</th>\n",
              "      <th>categories</th>\n",
              "      <th>dateAdded</th>\n",
              "      <th>dateUpdated</th>\n",
              "      <th>ean</th>\n",
              "      <th>imageURLs</th>\n",
              "      <th>keys</th>\n",
              "      <th>manufacturer</th>\n",
              "      <th>manufacturerNumber</th>\n",
              "      <th>name</th>\n",
              "      <th>primaryCategories</th>\n",
              "      <th>sourceURLs</th>\n",
              "      <th>upc</th>\n",
              "      <th>weight</th>\n",
              "      <th>price</th>\n",
              "    </tr>\n",
              "  </thead>\n",
              "  <tbody>\n",
              "    <tr>\n",
              "      <th>0</th>\n",
              "      <td>AVphrugr1cnluZ0-FOeH</td>\n",
              "      <td>Yes</td>\n",
              "      <td>New</td>\n",
              "      <td>USD</td>\n",
              "      <td>2017-05-10T20:00:00Z,2017-05-09T15:00:00Z</td>\n",
              "      <td>False</td>\n",
              "      <td>Bestbuy.com</td>\n",
              "      <td>NaN</td>\n",
              "      <td>http://www.bestbuy.com/site/products/7100293.p...</td>\n",
              "      <td>B00I9HD8PK</td>\n",
              "      <td>Grace Digital</td>\n",
              "      <td>Electronics,Home Audio &amp; Theater,Home Audio,Al...</td>\n",
              "      <td>2015-11-01T00:57:52Z</td>\n",
              "      <td>2018-02-13T19:46:08Z</td>\n",
              "      <td>NaN</td>\n",
              "      <td>https://i5.walmartimages.com/asr/dd5f42c4-076c...</td>\n",
              "      <td>819127010485,ecoxgearecostonebluetoothspeaker/...</td>\n",
              "      <td>Ecoxgear</td>\n",
              "      <td>GDI-EGST701</td>\n",
              "      <td>EcoXGear Ecostone Bluetooth Speaker</td>\n",
              "      <td>Electronics</td>\n",
              "      <td>http://www.walmart.com/ip/EcoXGear-Ecostone-Bl...</td>\n",
              "      <td>8.19E+11</td>\n",
              "      <td>3 pounds</td>\n",
              "      <td>92.99</td>\n",
              "    </tr>\n",
              "    <tr>\n",
              "      <th>1</th>\n",
              "      <td>AVrI6FDbv8e3D1O-lm4R</td>\n",
              "      <td>Yes</td>\n",
              "      <td>New</td>\n",
              "      <td>USD</td>\n",
              "      <td>2017-10-10T02:00:00Z,2017-08-12T03:00:00Z,2017...</td>\n",
              "      <td>False</td>\n",
              "      <td>Bestbuy.com</td>\n",
              "      <td>NaN</td>\n",
              "      <td>https://www.bestbuy.com/site/lenovo-100s-14ibr...</td>\n",
              "      <td>B06ZY63J8H</td>\n",
              "      <td>Lenovo</td>\n",
              "      <td>Electronics,Computers,Laptops,Laptops By Brand...</td>\n",
              "      <td>2017-03-13T18:22:32Z</td>\n",
              "      <td>2018-01-30T06:06:16Z</td>\n",
              "      <td>NaN</td>\n",
              "      <td>https://i5.walmartimages.com/asr/fcc50cce-a3c1...</td>\n",
              "      <td>190793918948,lenovo100s14ibr14laptopintelceler...</td>\n",
              "      <td>NaN</td>\n",
              "      <td>100s-14ibr</td>\n",
              "      <td>Lenovo - 100S-14IBR 14 Laptop - Intel Celeron ...</td>\n",
              "      <td>Electronics</td>\n",
              "      <td>https://www.walmart.com/ip/Lenovo-100S-14IBR-1...</td>\n",
              "      <td>1.91E+11</td>\n",
              "      <td>4.3 pounds</td>\n",
              "      <td>229.99</td>\n",
              "    </tr>\n",
              "    <tr>\n",
              "      <th>2</th>\n",
              "      <td>AVpiLlubilAPnD_xBoTa</td>\n",
              "      <td>Yes</td>\n",
              "      <td>New</td>\n",
              "      <td>USD</td>\n",
              "      <td>2017-10-10T19:00:00Z,2017-09-12T14:00:00Z,2017...</td>\n",
              "      <td>False</td>\n",
              "      <td>Bestbuy.com</td>\n",
              "      <td>NaN</td>\n",
              "      <td>https://www.bestbuy.com/site/house-of-marley-s...</td>\n",
              "      <td>B00G3P9UMU</td>\n",
              "      <td>House of Marley</td>\n",
              "      <td>Headphones,Consumer Electronics,Portable Audio...</td>\n",
              "      <td>2014-10-28T18:47:20Z</td>\n",
              "      <td>2018-05-16T20:23:54Z</td>\n",
              "      <td>8.47E+11</td>\n",
              "      <td>https://i5.walmartimages.com/asr/c124aa15-b9e3...</td>\n",
              "      <td>0846885007037,houseofmarleysmilejamaicainearea...</td>\n",
              "      <td>House Of Marley</td>\n",
              "      <td>EM-JE041-MI</td>\n",
              "      <td>House of Marley Smile Jamaica In-Ear Earbuds</td>\n",
              "      <td>Electronics</td>\n",
              "      <td>https://www.walmart.com/ip/House-of-Marley-Smi...</td>\n",
              "      <td>8.47E+11</td>\n",
              "      <td>0.6 ounces</td>\n",
              "      <td>16.99</td>\n",
              "    </tr>\n",
              "    <tr>\n",
              "      <th>3</th>\n",
              "      <td>AVpgQP5vLJeJML43LQbd</td>\n",
              "      <td>Yes</td>\n",
              "      <td>New</td>\n",
              "      <td>USD</td>\n",
              "      <td>2017-09-08T05:00:00Z,2017-09-18T13:00:00Z,2017...</td>\n",
              "      <td>False</td>\n",
              "      <td>Bestbuy.com</td>\n",
              "      <td>NaN</td>\n",
              "      <td>https://www.bestbuy.com/site/products/6311012....</td>\n",
              "      <td>B00TTWZFFA</td>\n",
              "      <td>Sony</td>\n",
              "      <td>Electronics,Home Audio &amp; Theater,Home Audio,Al...</td>\n",
              "      <td>2015-11-06T00:24:21Z</td>\n",
              "      <td>2018-01-30T03:06:18Z</td>\n",
              "      <td>NaN</td>\n",
              "      <td>https://i5.walmartimages.com/asr/1be435f7-5f3a...</td>\n",
              "      <td>sonyultraportablebluetoothspeaker/sosrsx11bk,s...</td>\n",
              "      <td>Sony</td>\n",
              "      <td>SRSX11/BLK</td>\n",
              "      <td>Sony Ultra-Portable Bluetooth Speaker</td>\n",
              "      <td>Electronics</td>\n",
              "      <td>https://www.walmart.com/ip/Sony-Ultra-Portable...</td>\n",
              "      <td>27242886599</td>\n",
              "      <td>1 pounds</td>\n",
              "      <td>69.99</td>\n",
              "    </tr>\n",
              "    <tr>\n",
              "      <th>4</th>\n",
              "      <td>AV1YDsmoGV-KLJ3adcbe</td>\n",
              "      <td>More on the Way</td>\n",
              "      <td>New</td>\n",
              "      <td>USD</td>\n",
              "      <td>2017-12-05T13:00:00Z</td>\n",
              "      <td>True</td>\n",
              "      <td>bhphotovideo.com</td>\n",
              "      <td>Free Expedited Shipping for most orders over $49</td>\n",
              "      <td>https://www.bhphotovideo.com/c/product/1105014...</td>\n",
              "      <td>B00MHPAF38</td>\n",
              "      <td>Sony</td>\n",
              "      <td>Digital Cameras,Cameras &amp; Photo,Used:Digital P...</td>\n",
              "      <td>2017-07-18T23:35:50Z</td>\n",
              "      <td>2018-07-26T15:58:38Z</td>\n",
              "      <td>NaN</td>\n",
              "      <td>http://i.ebayimg.com/thumbs/images/g/TBUAAOSwd...</td>\n",
              "      <td>sonyalphaa5100digitalcamerakitwith1650mmlenswh...</td>\n",
              "      <td>NaN</td>\n",
              "      <td>ILCE5100L/W</td>\n",
              "      <td>Alpha a5100 Mirrorless Digital Camera with 16-...</td>\n",
              "      <td>Electronics</td>\n",
              "      <td>https://reviews.bestbuy.com/3545/8429343/revie...</td>\n",
              "      <td>27242883246</td>\n",
              "      <td>9.98 oz 4.09 oz</td>\n",
              "      <td>846.00</td>\n",
              "    </tr>\n",
              "    <tr>\n",
              "      <th>5</th>\n",
              "      <td>AVphoJF41cnluZ0-ElhO</td>\n",
              "      <td>Yes</td>\n",
              "      <td>New</td>\n",
              "      <td>USD</td>\n",
              "      <td>2017-04-04T04:00:00Z,2017-03-30T04:00:00Z</td>\n",
              "      <td>True</td>\n",
              "      <td>Bestbuy.com</td>\n",
              "      <td>NaN</td>\n",
              "      <td>http://www.bestbuy.com/site/acer-15-6-chromebo...</td>\n",
              "      <td>B01CMYGAGY</td>\n",
              "      <td>Acer</td>\n",
              "      <td>Computers,Shop Laptops by Type,Google Chromebo...</td>\n",
              "      <td>2016-03-12T21:16:24Z</td>\n",
              "      <td>2018-06-20T15:47:07Z</td>\n",
              "      <td>8.89E+11</td>\n",
              "      <td>http://i.ebayimg.com/thumbs/images/g/CAIAAOSwC...</td>\n",
              "      <td>acer156chromebookcb5571c4g4intelceleron4gbmemo...</td>\n",
              "      <td>Acer</td>\n",
              "      <td>CB5-571-C4G4</td>\n",
              "      <td>Acer 15.6 Chromebook CB5-571-C4G4</td>\n",
              "      <td>Intel Celeron</td>\n",
              "      <td>16GB Storage</td>\n",
              "      <td>Chrome OS - White\"</td>\n",
              "      <td>15.6</td>\n",
              "      <td>198.99</td>\n",
              "    </tr>\n",
              "    <tr>\n",
              "      <th>6</th>\n",
              "      <td>AVzxqGmivKc47QAVfTIA</td>\n",
              "      <td>In Stock</td>\n",
              "      <td>New</td>\n",
              "      <td>USD</td>\n",
              "      <td>2018-03-09T18:00:00Z</td>\n",
              "      <td>False</td>\n",
              "      <td>Video &amp; Audio Center</td>\n",
              "      <td>Freight</td>\n",
              "      <td>https://www.walmart.com/ip/LG-OLED65C7P-65-C7-...</td>\n",
              "      <td>B01NAYM1TP,B06XZMFNGQ</td>\n",
              "      <td>LG</td>\n",
              "      <td>Electronics,Shop TVs by Type,TVs Entertainment...</td>\n",
              "      <td>2017-06-29T02:22:45Z</td>\n",
              "      <td>2018-06-30T02:25:22Z</td>\n",
              "      <td>7.19E+11</td>\n",
              "      <td>https://images-na.ssl-images-amazon.com/images...</td>\n",
              "      <td>lg65classoledc7series2160psmart4kuhdtvwithhdr/...</td>\n",
              "      <td>NaN</td>\n",
              "      <td>oled65c7p</td>\n",
              "      <td>LG Electronics OLED65C7P 65-Inch 4K Ultra HD S...</td>\n",
              "      <td>Electronics</td>\n",
              "      <td>https://reviews.bestbuy.com/3545/5763359/revie...</td>\n",
              "      <td>7.25E+11</td>\n",
              "      <td>54.5 pounds</td>\n",
              "      <td>2696.99</td>\n",
              "    </tr>\n",
              "    <tr>\n",
              "      <th>7</th>\n",
              "      <td>AVz5wcrn-jtxr-f30F69</td>\n",
              "      <td>Yes</td>\n",
              "      <td>New</td>\n",
              "      <td>USD</td>\n",
              "      <td>2017-08-12T09:00:00Z,2017-08-01T03:00:00Z,2017...</td>\n",
              "      <td>True</td>\n",
              "      <td>Bestbuy.com</td>\n",
              "      <td>NaN</td>\n",
              "      <td>http://www.bestbuy.com/site/yamaha-aventage-7-...</td>\n",
              "      <td>B06ZZ2VXJ2</td>\n",
              "      <td>Yamaha</td>\n",
              "      <td>TV, Video &amp; Home Audio,Receivers Amplifiers,Re...</td>\n",
              "      <td>2017-06-30T16:07:26Z</td>\n",
              "      <td>2018-06-13T19:35:05Z</td>\n",
              "      <td>NaN</td>\n",
              "      <td>https://i.ebayimg.com/thumbs/images/g/OjEAAOSw...</td>\n",
              "      <td>yamahaaventage72ch4kultrahdvhometheaterreceive...</td>\n",
              "      <td>Yamaha</td>\n",
              "      <td>RX-A670BL</td>\n",
              "      <td>Yamaha - AVENTAGE 7.2-Ch. 4K Ultra HD A/V Home...</td>\n",
              "      <td>Electronics</td>\n",
              "      <td>https://reviews.bestbuy.com/3545/5785426/revie...</td>\n",
              "      <td>27108955339</td>\n",
              "      <td>18.3 pounds</td>\n",
              "      <td>494.99</td>\n",
              "    </tr>\n",
              "    <tr>\n",
              "      <th>8</th>\n",
              "      <td>AVphpQwR1cnluZ0-EyPP</td>\n",
              "      <td>In Stock</td>\n",
              "      <td>New</td>\n",
              "      <td>USD</td>\n",
              "      <td>2018-03-05T11:00:00Z</td>\n",
              "      <td>False</td>\n",
              "      <td>Creative Audio</td>\n",
              "      <td>Standard</td>\n",
              "      <td>https://www.walmart.com/ip/NEW-KICKER-KB6000-6...</td>\n",
              "      <td>B0051BS28A</td>\n",
              "      <td>Kicker</td>\n",
              "      <td>Electronics,Home Audio &amp; Theater,Home Audio,Al...</td>\n",
              "      <td>2015-11-06T00:04:51Z</td>\n",
              "      <td>2018-05-02T14:20:42Z</td>\n",
              "      <td>NaN</td>\n",
              "      <td>https://i5.walmartimages.com/asr/4b717c0e-59d5...</td>\n",
              "      <td>kicker652wayfullrangespeakerspairwhite/4415500...</td>\n",
              "      <td>KICKER</td>\n",
              "      <td>11KB6000W</td>\n",
              "      <td>KICKER - 6.5 2-Way Full-Range Speakers (Pair) ...</td>\n",
              "      <td>Electronics</td>\n",
              "      <td>http://www.bestbuy.com/site/products/4415500.p...</td>\n",
              "      <td>7.13E+11</td>\n",
              "      <td>3.2 Kg</td>\n",
              "      <td>79.95</td>\n",
              "    </tr>\n",
              "    <tr>\n",
              "      <th>9</th>\n",
              "      <td>AV1YDsmoGV-KLJ3adcbe</td>\n",
              "      <td>In Stock</td>\n",
              "      <td>New</td>\n",
              "      <td>USD</td>\n",
              "      <td>2017-12-08T06:00:00Z,2018-05-03T19:00:00Z,2018...</td>\n",
              "      <td>True</td>\n",
              "      <td>bhphotovideo.com</td>\n",
              "      <td>Free Expedited Shipping for most orders over $49</td>\n",
              "      <td>https://www.bhphotovideo.com/c/product/1076401...</td>\n",
              "      <td>B00MHPAF38</td>\n",
              "      <td>Sony</td>\n",
              "      <td>Digital Cameras,Cameras &amp; Photo,Used:Digital P...</td>\n",
              "      <td>2017-07-18T23:35:50Z</td>\n",
              "      <td>2018-07-26T15:58:38Z</td>\n",
              "      <td>NaN</td>\n",
              "      <td>http://i.ebayimg.com/thumbs/images/g/TBUAAOSwd...</td>\n",
              "      <td>sonyalphaa5100digitalcamerakitwith1650mmlenswh...</td>\n",
              "      <td>NaN</td>\n",
              "      <td>ILCE5100L/W</td>\n",
              "      <td>Alpha a5100 Mirrorless Digital Camera with 16-...</td>\n",
              "      <td>Electronics</td>\n",
              "      <td>https://reviews.bestbuy.com/3545/8429343/revie...</td>\n",
              "      <td>27242883246</td>\n",
              "      <td>9.98 oz 4.09 oz</td>\n",
              "      <td>498.00</td>\n",
              "    </tr>\n",
              "  </tbody>\n",
              "</table>\n",
              "</div>"
            ],
            "text/plain": [
              "                     id prices.availability  ...           weight    price\n",
              "0  AVphrugr1cnluZ0-FOeH                 Yes  ...         3 pounds    92.99\n",
              "1  AVrI6FDbv8e3D1O-lm4R                 Yes  ...       4.3 pounds   229.99\n",
              "2  AVpiLlubilAPnD_xBoTa                 Yes  ...       0.6 ounces    16.99\n",
              "3  AVpgQP5vLJeJML43LQbd                 Yes  ...         1 pounds    69.99\n",
              "4  AV1YDsmoGV-KLJ3adcbe     More on the Way  ...  9.98 oz 4.09 oz   846.00\n",
              "5  AVphoJF41cnluZ0-ElhO                 Yes  ...             15.6   198.99\n",
              "6  AVzxqGmivKc47QAVfTIA            In Stock  ...      54.5 pounds  2696.99\n",
              "7  AVz5wcrn-jtxr-f30F69                 Yes  ...      18.3 pounds   494.99\n",
              "8  AVphpQwR1cnluZ0-EyPP            In Stock  ...           3.2 Kg    79.95\n",
              "9  AV1YDsmoGV-KLJ3adcbe            In Stock  ...  9.98 oz 4.09 oz   498.00\n",
              "\n",
              "[10 rows x 25 columns]"
            ]
          },
          "metadata": {
            "tags": []
          },
          "execution_count": 3
        }
      ]
    },
    {
      "cell_type": "code",
      "metadata": {
        "colab": {
          "base_uri": "https://localhost:8080/"
        },
        "id": "JN_xQM8wYQCt",
        "outputId": "a00cd1b1-f756-44b2-a6ad-b7a35b5a9ffe"
      },
      "source": [
        "ep_data.info()"
      ],
      "execution_count": null,
      "outputs": [
        {
          "output_type": "stream",
          "text": [
            "<class 'pandas.core.frame.DataFrame'>\n",
            "RangeIndex: 5436 entries, 0 to 5435\n",
            "Data columns (total 25 columns):\n",
            " #   Column               Non-Null Count  Dtype  \n",
            "---  ------               --------------  -----  \n",
            " 0   id                   5436 non-null   object \n",
            " 1   prices.availability  5436 non-null   object \n",
            " 2   prices.condition     5436 non-null   object \n",
            " 3   prices.currency      5436 non-null   object \n",
            " 4   prices.dateSeen      5436 non-null   object \n",
            " 5   prices.isSale        5436 non-null   bool   \n",
            " 6   prices.merchant      5436 non-null   object \n",
            " 7   prices.shipping      3199 non-null   object \n",
            " 8   prices.sourceURLs    5436 non-null   object \n",
            " 9   asins                5436 non-null   object \n",
            " 10  brand                5436 non-null   object \n",
            " 11  categories           5436 non-null   object \n",
            " 12  dateAdded            5436 non-null   object \n",
            " 13  dateUpdated          5436 non-null   object \n",
            " 14  ean                  1175 non-null   object \n",
            " 15  imageURLs            5436 non-null   object \n",
            " 16  keys                 5436 non-null   object \n",
            " 17  manufacturer         2477 non-null   object \n",
            " 18  manufacturerNumber   5436 non-null   object \n",
            " 19  name                 5436 non-null   object \n",
            " 20  primaryCategories    5436 non-null   object \n",
            " 21  sourceURLs           5436 non-null   object \n",
            " 22  upc                  5436 non-null   object \n",
            " 23  weight               5436 non-null   object \n",
            " 24  price                5436 non-null   float64\n",
            "dtypes: bool(1), float64(1), object(23)\n",
            "memory usage: 1.0+ MB\n"
          ],
          "name": "stdout"
        }
      ]
    },
    {
      "cell_type": "code",
      "metadata": {
        "id": "lYeTej-FZ6Cv"
      },
      "source": [
        "col_to_drop = ['id', 'prices.sourceURLs', 'categories', 'dateAdded', 'dateUpdated', 'ean',\n",
        "'imageURLs', 'keys', 'manufacturerNumber', 'name','sourceURLs','upc', 'prices.dateSeen']\n",
        "ep_data = ep_data.drop(col_to_drop,axis=1)"
      ],
      "execution_count": null,
      "outputs": []
    },
    {
      "cell_type": "code",
      "metadata": {
        "colab": {
          "base_uri": "https://localhost:8080/"
        },
        "id": "wLmbxTSnb6bA",
        "outputId": "101354be-f04e-4c82-8e7e-189f0e7c0ad5"
      },
      "source": [
        "ep_data.info()"
      ],
      "execution_count": null,
      "outputs": [
        {
          "output_type": "stream",
          "text": [
            "<class 'pandas.core.frame.DataFrame'>\n",
            "RangeIndex: 5436 entries, 0 to 5435\n",
            "Data columns (total 12 columns):\n",
            " #   Column               Non-Null Count  Dtype  \n",
            "---  ------               --------------  -----  \n",
            " 0   prices.availability  5436 non-null   object \n",
            " 1   prices.condition     5436 non-null   object \n",
            " 2   prices.currency      5436 non-null   object \n",
            " 3   prices.isSale        5436 non-null   bool   \n",
            " 4   prices.merchant      5436 non-null   object \n",
            " 5   prices.shipping      3199 non-null   object \n",
            " 6   asins                5436 non-null   object \n",
            " 7   brand                5436 non-null   object \n",
            " 8   manufacturer         2477 non-null   object \n",
            " 9   primaryCategories    5436 non-null   object \n",
            " 10  weight               5436 non-null   object \n",
            " 11  price                5436 non-null   float64\n",
            "dtypes: bool(1), float64(1), object(10)\n",
            "memory usage: 472.6+ KB\n"
          ],
          "name": "stdout"
        }
      ]
    },
    {
      "cell_type": "code",
      "metadata": {
        "colab": {
          "base_uri": "https://localhost:8080/"
        },
        "id": "zfxXQVgsgF0H",
        "outputId": "6c13ce21-744d-49e8-e662-dbc2b823ba11"
      },
      "source": [
        "ep_data.isnull().sum()"
      ],
      "execution_count": null,
      "outputs": [
        {
          "output_type": "execute_result",
          "data": {
            "text/plain": [
              "prices.availability       0\n",
              "prices.condition          0\n",
              "prices.currency           0\n",
              "prices.isSale             0\n",
              "prices.merchant           0\n",
              "prices.shipping        2237\n",
              "asins                     0\n",
              "brand                     0\n",
              "manufacturer           2959\n",
              "primaryCategories         0\n",
              "weight                    0\n",
              "price                     0\n",
              "dtype: int64"
            ]
          },
          "metadata": {
            "tags": []
          },
          "execution_count": 7
        }
      ]
    },
    {
      "cell_type": "code",
      "metadata": {
        "id": "Pagq_bBPEu8E"
      },
      "source": [
        "cl = ['prices.shipping','manufacturer']\n",
        "ep_data.drop(cl,axis=1,inplace=True)"
      ],
      "execution_count": null,
      "outputs": []
    },
    {
      "cell_type": "code",
      "metadata": {
        "id": "N3NptT_lgvT8"
      },
      "source": [
        "#ep_data['prices.shipping'].fillna(ep_data['prices.shipping'].mode()[0],inplace=True)\n",
        "#ep_data['manufacturer'].fillna(ep_data['manufacturer'].mode()[0],inplace=True)"
      ],
      "execution_count": null,
      "outputs": []
    },
    {
      "cell_type": "code",
      "metadata": {
        "colab": {
          "base_uri": "https://localhost:8080/"
        },
        "id": "YzpmBfNxh7ih",
        "outputId": "59e7dcec-3a4d-407a-8349-dd14ec70e94f"
      },
      "source": [
        "ep_data['weight']"
      ],
      "execution_count": null,
      "outputs": [
        {
          "output_type": "execute_result",
          "data": {
            "text/plain": [
              "0              3 pounds\n",
              "1            4.3 pounds\n",
              "2            0.6 ounces\n",
              "3              1 pounds\n",
              "4       9.98 oz 4.09 oz\n",
              "             ...       \n",
              "5431           8 ounces\n",
              "5432        25.6 ounces\n",
              "5433               6 oz\n",
              "5434             2.7 Kg\n",
              "5435            25.8 lb\n",
              "Name: weight, Length: 5436, dtype: object"
            ]
          },
          "metadata": {
            "tags": []
          },
          "execution_count": 10
        }
      ]
    },
    {
      "cell_type": "code",
      "metadata": {
        "id": "CXowgl-gif-x"
      },
      "source": [
        "ep_data = ep_data[ep_data.weight != 'Electronics']\n",
        "def f(r):\n",
        "  if len(r) <20:\n",
        "    return float(r.split()[0])\n",
        "  else:\n",
        "    return 'z'\n",
        "ep_data.weight = ep_data.weight.apply(f)\n",
        "ep_data = ep_data[ep_data.weight != 'z']\n",
        "ep_data.weight = ep_data.weight.astype('float')"
      ],
      "execution_count": null,
      "outputs": []
    },
    {
      "cell_type": "code",
      "metadata": {
        "colab": {
          "base_uri": "https://localhost:8080/"
        },
        "id": "daDWbAjcjFo-",
        "outputId": "e81a0b3f-5215-4cf8-c4e8-e22094a6760c"
      },
      "source": [
        "ep_data.isnull().sum()"
      ],
      "execution_count": null,
      "outputs": [
        {
          "output_type": "execute_result",
          "data": {
            "text/plain": [
              "prices.availability    0\n",
              "prices.condition       0\n",
              "prices.currency        0\n",
              "prices.isSale          0\n",
              "prices.merchant        0\n",
              "asins                  0\n",
              "brand                  0\n",
              "primaryCategories      0\n",
              "weight                 0\n",
              "price                  0\n",
              "dtype: int64"
            ]
          },
          "metadata": {
            "tags": []
          },
          "execution_count": 12
        }
      ]
    },
    {
      "cell_type": "code",
      "metadata": {
        "colab": {
          "base_uri": "https://localhost:8080/"
        },
        "id": "B9gHNbPQjpGR",
        "outputId": "0b846cf8-3959-4352-b763-27657610ab73"
      },
      "source": [
        "ep_data.info()"
      ],
      "execution_count": null,
      "outputs": [
        {
          "output_type": "stream",
          "text": [
            "<class 'pandas.core.frame.DataFrame'>\n",
            "Int64Index: 5043 entries, 0 to 5435\n",
            "Data columns (total 10 columns):\n",
            " #   Column               Non-Null Count  Dtype  \n",
            "---  ------               --------------  -----  \n",
            " 0   prices.availability  5043 non-null   object \n",
            " 1   prices.condition     5043 non-null   object \n",
            " 2   prices.currency      5043 non-null   object \n",
            " 3   prices.isSale        5043 non-null   bool   \n",
            " 4   prices.merchant      5043 non-null   object \n",
            " 5   asins                5043 non-null   object \n",
            " 6   brand                5043 non-null   object \n",
            " 7   primaryCategories    5043 non-null   object \n",
            " 8   weight               5043 non-null   float64\n",
            " 9   price                5043 non-null   float64\n",
            "dtypes: bool(1), float64(2), object(7)\n",
            "memory usage: 398.9+ KB\n"
          ],
          "name": "stdout"
        }
      ]
    },
    {
      "cell_type": "code",
      "metadata": {
        "colab": {
          "base_uri": "https://localhost:8080/"
        },
        "id": "sqL8e1ail0Rh",
        "outputId": "a6efe7bb-c58d-4992-ef6b-165fb0241266"
      },
      "source": [
        "col = ['prices.availability','prices.condition','prices.currency', 'prices.isSale', 'prices.merchant', 'asins', 'brand', 'primaryCategories']\n",
        "\n",
        "data=ep_data\n",
        "data.info()"
      ],
      "execution_count": null,
      "outputs": [
        {
          "output_type": "stream",
          "text": [
            "<class 'pandas.core.frame.DataFrame'>\n",
            "Int64Index: 5043 entries, 0 to 5435\n",
            "Data columns (total 10 columns):\n",
            " #   Column               Non-Null Count  Dtype  \n",
            "---  ------               --------------  -----  \n",
            " 0   prices.availability  5043 non-null   object \n",
            " 1   prices.condition     5043 non-null   object \n",
            " 2   prices.currency      5043 non-null   object \n",
            " 3   prices.isSale        5043 non-null   bool   \n",
            " 4   prices.merchant      5043 non-null   object \n",
            " 5   asins                5043 non-null   object \n",
            " 6   brand                5043 non-null   object \n",
            " 7   primaryCategories    5043 non-null   object \n",
            " 8   weight               5043 non-null   float64\n",
            " 9   price                5043 non-null   float64\n",
            "dtypes: bool(1), float64(2), object(7)\n",
            "memory usage: 398.9+ KB\n"
          ],
          "name": "stdout"
        }
      ]
    },
    {
      "cell_type": "code",
      "metadata": {
        "id": "AHSSzDwUmdgX",
        "colab": {
          "base_uri": "https://localhost:8080/",
          "height": 238
        },
        "outputId": "084995fe-2529-40f7-dc29-d90579f9cae6"
      },
      "source": [
        "ohe = OneHotEncoder(handle_unknown='ignore')\n",
        "ohe.fit(ep_data[col])\n",
        "encoded = ohe.transform(ep_data[col]).toarray()\n",
        "features = ohe.get_feature_names(col)\n",
        "ep_data_ohe=pd.DataFrame(encoded,columns=features).astype(int)"
      ],
      "execution_count": null,
      "outputs": [
        {
          "output_type": "error",
          "ename": "NameError",
          "evalue": "ignored",
          "traceback": [
            "\u001b[0;31m---------------------------------------------------------------------------\u001b[0m",
            "\u001b[0;31mNameError\u001b[0m                                 Traceback (most recent call last)",
            "\u001b[0;32m<ipython-input-15-0b2e16e2db12>\u001b[0m in \u001b[0;36m<module>\u001b[0;34m()\u001b[0m\n\u001b[0;32m----> 1\u001b[0;31m \u001b[0mohe\u001b[0m \u001b[0;34m=\u001b[0m \u001b[0mOneHotEncoder\u001b[0m\u001b[0;34m(\u001b[0m\u001b[0mhandle_unknown\u001b[0m\u001b[0;34m=\u001b[0m\u001b[0;34m'ignore'\u001b[0m\u001b[0;34m)\u001b[0m\u001b[0;34m\u001b[0m\u001b[0;34m\u001b[0m\u001b[0m\n\u001b[0m\u001b[1;32m      2\u001b[0m \u001b[0mohe\u001b[0m\u001b[0;34m.\u001b[0m\u001b[0mfit\u001b[0m\u001b[0;34m(\u001b[0m\u001b[0mep_data\u001b[0m\u001b[0;34m[\u001b[0m\u001b[0mcol\u001b[0m\u001b[0;34m]\u001b[0m\u001b[0;34m)\u001b[0m\u001b[0;34m\u001b[0m\u001b[0;34m\u001b[0m\u001b[0m\n\u001b[1;32m      3\u001b[0m \u001b[0mencoded\u001b[0m \u001b[0;34m=\u001b[0m \u001b[0mohe\u001b[0m\u001b[0;34m.\u001b[0m\u001b[0mtransform\u001b[0m\u001b[0;34m(\u001b[0m\u001b[0mep_data\u001b[0m\u001b[0;34m[\u001b[0m\u001b[0mcol\u001b[0m\u001b[0;34m]\u001b[0m\u001b[0;34m)\u001b[0m\u001b[0;34m.\u001b[0m\u001b[0mtoarray\u001b[0m\u001b[0;34m(\u001b[0m\u001b[0;34m)\u001b[0m\u001b[0;34m\u001b[0m\u001b[0;34m\u001b[0m\u001b[0m\n\u001b[1;32m      4\u001b[0m \u001b[0mfeatures\u001b[0m \u001b[0;34m=\u001b[0m \u001b[0mohe\u001b[0m\u001b[0;34m.\u001b[0m\u001b[0mget_feature_names\u001b[0m\u001b[0;34m(\u001b[0m\u001b[0mcol\u001b[0m\u001b[0;34m)\u001b[0m\u001b[0;34m\u001b[0m\u001b[0;34m\u001b[0m\u001b[0m\n\u001b[1;32m      5\u001b[0m \u001b[0mep_data_ohe\u001b[0m\u001b[0;34m=\u001b[0m\u001b[0mpd\u001b[0m\u001b[0;34m.\u001b[0m\u001b[0mDataFrame\u001b[0m\u001b[0;34m(\u001b[0m\u001b[0mencoded\u001b[0m\u001b[0;34m,\u001b[0m\u001b[0mcolumns\u001b[0m\u001b[0;34m=\u001b[0m\u001b[0mfeatures\u001b[0m\u001b[0;34m)\u001b[0m\u001b[0;34m.\u001b[0m\u001b[0mastype\u001b[0m\u001b[0;34m(\u001b[0m\u001b[0mint\u001b[0m\u001b[0;34m)\u001b[0m\u001b[0;34m\u001b[0m\u001b[0;34m\u001b[0m\u001b[0m\n",
            "\u001b[0;31mNameError\u001b[0m: name 'OneHotEncoder' is not defined"
          ]
        }
      ]
    },
    {
      "cell_type": "code",
      "metadata": {
        "id": "Jm3taZshqodR"
      },
      "source": [
        "data = pd.concat([ep_data_ohe, ep_data], axis=1)\n"
      ],
      "execution_count": null,
      "outputs": []
    },
    {
      "cell_type": "code",
      "metadata": {
        "id": "z4DyBYuf2xU9"
      },
      "source": [
        "data.info()"
      ],
      "execution_count": null,
      "outputs": []
    },
    {
      "cell_type": "code",
      "metadata": {
        "id": "YDGiTnc05gpI"
      },
      "source": [
        "data.head()"
      ],
      "execution_count": null,
      "outputs": []
    },
    {
      "cell_type": "code",
      "metadata": {
        "id": "9ajtYggv5ry3"
      },
      "source": [
        "data.drop(col, axis = 1, inplace=True)"
      ],
      "execution_count": null,
      "outputs": []
    },
    {
      "cell_type": "code",
      "metadata": {
        "id": "L2tgiBAd7Z0j"
      },
      "source": [
        "data.head()"
      ],
      "execution_count": null,
      "outputs": []
    },
    {
      "cell_type": "code",
      "metadata": {
        "id": "NwLDm7fp7e5U"
      },
      "source": [
        "data.replace([np.inf, -np.inf], np.nan, inplace=True)\n",
        "data=data.dropna()"
      ],
      "execution_count": null,
      "outputs": []
    },
    {
      "cell_type": "code",
      "metadata": {
        "id": "uQbLc5O97iHu"
      },
      "source": [
        "data.head()"
      ],
      "execution_count": null,
      "outputs": []
    },
    {
      "cell_type": "code",
      "metadata": {
        "id": "Zii40Wkh7j0d"
      },
      "source": [
        "data.replace([np.inf, -np.inf], np.nan, inplace=True)\n",
        "data=data.dropna()"
      ],
      "execution_count": null,
      "outputs": []
    },
    {
      "cell_type": "code",
      "metadata": {
        "id": "wM3-0g6JB-HG"
      },
      "source": [
        "ep_data=data\n"
      ],
      "execution_count": null,
      "outputs": []
    },
    {
      "cell_type": "code",
      "metadata": {
        "id": "GCruiBjZCAMU"
      },
      "source": [
        "data.isna().sum()\n"
      ],
      "execution_count": null,
      "outputs": []
    },
    {
      "cell_type": "code",
      "metadata": {
        "id": "m8qg4UESCB7j"
      },
      "source": [
        "X = ep_data.drop(\"price\",axis=1)\n",
        "y = ep_data.price"
      ],
      "execution_count": null,
      "outputs": []
    },
    {
      "cell_type": "code",
      "metadata": {
        "id": "_LWrnN0rCPMv"
      },
      "source": [
        "X_train,X_test,y_train,y_test = train_test_split(X,y,test_size=0.3,random_state = 1)"
      ],
      "execution_count": null,
      "outputs": []
    },
    {
      "cell_type": "code",
      "metadata": {
        "id": "ia5Xb-q8CmYp"
      },
      "source": [
        "LR = LinearRegression()\n",
        "LR.fit(X_train,y_train)"
      ],
      "execution_count": null,
      "outputs": []
    },
    {
      "cell_type": "code",
      "metadata": {
        "id": "6qoN0jVREBhM"
      },
      "source": [
        "predict = LR.predict(X_test)"
      ],
      "execution_count": null,
      "outputs": []
    },
    {
      "cell_type": "code",
      "metadata": {
        "id": "CiS6RC0MC8Ci"
      },
      "source": [
        "from sklearn.metrics import mean_squared_error,r2_score\n",
        "print('Root Mean Squared Error is: ', np.sqrt(mean_squared_error(y_test, predict)))\n"
      ],
      "execution_count": null,
      "outputs": []
    },
    {
      "cell_type": "code",
      "metadata": {
        "id": "ST5moZExF_h6"
      },
      "source": [
        "test_data = pd.read_csv('https://raw.githubusercontent.com/dphi-official/Datasets/master/electronic_product/electronic_product/Testing_set_label.csv')"
      ],
      "execution_count": null,
      "outputs": []
    },
    {
      "cell_type": "code",
      "metadata": {
        "id": "cgJUDdILD3F_"
      },
      "source": [
        "col_to_drop = ['id', 'prices.sourceURLs', 'categories', 'dateAdded', 'dateUpdated', 'ean', 'prices.shipping','manufacturer',\n",
        "'imageURLs', 'keys', 'manufacturerNumber', 'name','sourceURLs','upc', 'prices.dateSeen']\n",
        "\n",
        "test_data.drop(col_to_drop, axis = 1, inplace=True)\n"
      ],
      "execution_count": null,
      "outputs": []
    },
    {
      "cell_type": "code",
      "metadata": {
        "id": "Q8cm-qZqF5IK"
      },
      "source": [
        "def f(r):\n",
        "  r = str(r)\n",
        "  if len(r) <20 and r != 'Electronics':\n",
        "    return float(r.split()[0])\n",
        "  else:\n",
        "    return 0\n",
        "\n",
        "test_data.weight = test_data.weight.apply(f)\n",
        "test_data.weight = test_data.weight.astype('float')\n",
        "\n",
        "\n",
        "features = ohe.get_feature_names(col)\n",
        "test_data[features] = ohe.transform(test_data[col]).toarray()\n",
        "test_data.drop(col, axis = 1, inplace = True)\n",
        "test_data.replace([np.inf, -np.inf], np.nan, inplace=True)\n",
        "test_data.fillna(0, inplace=True)\n"
      ],
      "execution_count": null,
      "outputs": []
    },
    {
      "cell_type": "code",
      "metadata": {
        "id": "6SH4yE00JaWn"
      },
      "source": [
        "ep_data.info()"
      ],
      "execution_count": null,
      "outputs": []
    },
    {
      "cell_type": "code",
      "metadata": {
        "id": "ujj5MWAQJmjD"
      },
      "source": [
        "ep_data.shape"
      ],
      "execution_count": null,
      "outputs": []
    },
    {
      "cell_type": "code",
      "metadata": {
        "id": "wBKzjHAcGVQS"
      },
      "source": [
        "test_data.info()"
      ],
      "execution_count": null,
      "outputs": []
    },
    {
      "cell_type": "code",
      "metadata": {
        "id": "pVgkkcyPJpdL"
      },
      "source": [
        "test_data.shape"
      ],
      "execution_count": null,
      "outputs": []
    },
    {
      "cell_type": "code",
      "metadata": {
        "id": "rbEd4xrvGFvH"
      },
      "source": [
        "target = LR.predict(test_data)"
      ],
      "execution_count": null,
      "outputs": []
    },
    {
      "cell_type": "code",
      "metadata": {
        "id": "6_SMYLmyGO9E"
      },
      "source": [
        "target"
      ],
      "execution_count": null,
      "outputs": []
    },
    {
      "cell_type": "code",
      "metadata": {
        "id": "JF8D6EPUGR9u"
      },
      "source": [
        "res = pd.DataFrame(target) # target are nothing but the final predictions of your model on input features of your new unseen test data\n",
        "res.index = test_data.index # its important for comparison. Here \"test_new\" is your new test dataset\n",
        "res.columns = [\"prediction\"]\n",
        "\n",
        "# To download the csv file locally\n",
        "from google.colab import files\n",
        "res.to_csv('submission.csv')\n",
        "files.download('submission.csv')"
      ],
      "execution_count": null,
      "outputs": []
    },
    {
      "cell_type": "code",
      "metadata": {
        "id": "la0CLqiLJy9l"
      },
      "source": [
        ""
      ],
      "execution_count": null,
      "outputs": []
    }
  ]
}